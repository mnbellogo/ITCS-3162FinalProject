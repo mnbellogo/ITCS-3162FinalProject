{
 "cells": [
  {
   "cell_type": "markdown",
   "id": "3c660b4b",
   "metadata": {},
   "source": [
    "# Final Project preprocessing\n",
    "Preprocessing to prepare for cluster modeling\n",
    "Authors: \n",
    "Date: 4/25/2025\n",
    "Notes: "
   ]
  },
  {
   "cell_type": "markdown",
   "id": "91681c9a",
   "metadata": {},
   "source": []
  }
 ],
 "metadata": {
  "language_info": {
   "name": "python"
  }
 },
 "nbformat": 4,
 "nbformat_minor": 5
}
